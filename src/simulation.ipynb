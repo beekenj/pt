{
 "cells": [
  {
   "cell_type": "code",
   "execution_count": 2,
   "metadata": {},
   "outputs": [],
   "source": [
    "import numpy as np"
   ]
  },
  {
   "cell_type": "code",
   "execution_count": 4,
   "metadata": {},
   "outputs": [],
   "source": []
  },
  {
   "cell_type": "code",
   "execution_count": 8,
   "metadata": {},
   "outputs": [],
   "source": [
    "def simulation(p1, p2, n):\n",
    "    def match(p1, p2):\n",
    "        h1 = p1[\"health\"]\n",
    "        h2 = p2[\"health\"]\n",
    "        s1 = p1[\"shield\"]\n",
    "        s2 = p2[\"shield\"]\n",
    "        p1_hit = min(max(1, 3-p1[\"targeting\"]+p2[\"evasion\"]), 5)\n",
    "        p2_hit = min(max(1, 3-p2[\"targeting\"]+p1[\"evasion\"]), 5)\n",
    "\n",
    "        while h1 > 0 and h2 > 0:\n",
    "            # hit rolls\n",
    "            h2 -= sum([i if np.ceil(np.random.rand()*6) > p1_hit else 0 for i in p1[\"hd\"]])\n",
    "            h1 -= sum([i if np.ceil(np.random.rand()*6) > p2_hit else 0 for i in p2[\"hd\"]])\n",
    "\n",
    "            # shields\n",
    "            h1 += max(s1-p2[\"shield_pen\"], 0)\n",
    "            h2 += max(s2-p1[\"shield_pen\"], 0)\n",
    "            \n",
    "            # shield degredation\n",
    "            s1 -= 1\n",
    "            s2 -= 1\n",
    "\n",
    "        if h1 >= h2:\n",
    "            return 1\n",
    "        else:\n",
    "            return 0\n",
    "\n",
    "    total = 0\n",
    "    for _ in range(n):\n",
    "        total += match(p1, p2)\n",
    "    return total/n\n"
   ]
  },
  {
   "cell_type": "code",
   "execution_count": 11,
   "metadata": {},
   "outputs": [
    {
     "data": {
      "text/plain": [
       "0.6665"
      ]
     },
     "execution_count": 11,
     "metadata": {},
     "output_type": "execute_result"
    }
   ],
   "source": [
    "p1 = {\n",
    "    \"hd\": [1,1],\n",
    "    \"targeting\": 0,\n",
    "    \"evasion\": 0,\n",
    "    \"shield\": 0,\n",
    "    \"shield_pen\": 0,\n",
    "    \"initiative\": 0,\n",
    "    \"health\": 1,\n",
    "}\n",
    "p2 = {\n",
    "    \"hd\": [1,1],\n",
    "    \"targeting\": 0,\n",
    "    \"evasion\": 0,\n",
    "    \"shield\": 0,\n",
    "    \"shield_pen\": 0,\n",
    "    \"initiative\": 0,\n",
    "    \"health\": 1,\n",
    "}\n",
    "\n",
    "# SIMULATION\n",
    "simulation(p1, p2, 10000)"
   ]
  }
 ],
 "metadata": {
  "kernelspec": {
   "display_name": "Python 3.8.3 ('base')",
   "language": "python",
   "name": "python3"
  },
  "language_info": {
   "codemirror_mode": {
    "name": "ipython",
    "version": 3
   },
   "file_extension": ".py",
   "mimetype": "text/x-python",
   "name": "python",
   "nbconvert_exporter": "python",
   "pygments_lexer": "ipython3",
   "version": "3.8.3"
  },
  "orig_nbformat": 4,
  "vscode": {
   "interpreter": {
    "hash": "a077222d77dfe082b8f1dd562ad70e458ac2ab76993a0b248ab0476e32e9e8dd"
   }
  }
 },
 "nbformat": 4,
 "nbformat_minor": 2
}
